{
 "cells": [
  {
   "cell_type": "code",
   "execution_count": 16,
   "metadata": {},
   "outputs": [
    {
     "name": "stdout",
     "output_type": "stream",
     "text": [
      "\u001b[32m\u001b[1m Resolving\u001b[22m\u001b[39m package versions...\n",
      "\u001b[32m\u001b[1m  Updating\u001b[22m\u001b[39m `C:\\Users\\ASTHA RAI-1804\\.julia\\environments\\v1.0\\Project.toml`\n",
      "\u001b[90m [no changes]\u001b[39m\n",
      "\u001b[32m\u001b[1m  Updating\u001b[22m\u001b[39m `C:\\Users\\ASTHA RAI-1804\\.julia\\environments\\v1.0\\Manifest.toml`\n",
      "\u001b[90m [no changes]\u001b[39m\n",
      "\u001b[32m\u001b[1m Resolving\u001b[22m\u001b[39m package versions...\n",
      "\u001b[32m\u001b[1m  Updating\u001b[22m\u001b[39m `C:\\Users\\ASTHA RAI-1804\\.julia\\environments\\v1.0\\Project.toml`\n",
      "\u001b[90m [no changes]\u001b[39m\n",
      "\u001b[32m\u001b[1m  Updating\u001b[22m\u001b[39m `C:\\Users\\ASTHA RAI-1804\\.julia\\environments\\v1.0\\Manifest.toml`\n",
      "\u001b[90m [no changes]\u001b[39m\n"
     ]
    }
   ],
   "source": [
    "using Pkg\n",
    "Pkg.add(\"StatsBase\")\n",
    "Pkg.add(\"ROCAnalysis\")"
   ]
  },
  {
   "cell_type": "code",
   "execution_count": 17,
   "metadata": {},
   "outputs": [],
   "source": [
    "using Pkg\n",
    "using DataFrames\n",
    "using CSV\n",
    "using Plots\n",
    "using GLM\n",
    "using StatsBase\n",
    "using Lathe\n",
    "using MLBase\n",
    "using ROCAnalysis"
   ]
  },
  {
   "cell_type": "code",
   "execution_count": 3,
   "metadata": {},
   "outputs": [
    {
     "data": {
      "text/plain": [
       "1000"
      ]
     },
     "execution_count": 3,
     "metadata": {},
     "output_type": "execute_result"
    }
   ],
   "source": [
    "#Enable printing of 1000 columns\n",
    "ENV[\"COLOUMNS\"]=1000"
   ]
  },
  {
   "cell_type": "code",
   "execution_count": 4,
   "metadata": {},
   "outputs": [
    {
     "data": {
      "text/html": [
       "<table class=\"data-frame\"><thead><tr><th></th><th>RowNumber</th><th>CustomerId</th><th>Surname</th><th>CreditScore</th><th>Geography</th><th>Gender</th><th>Age</th><th>Tenure</th></tr><tr><th></th><th>Int64</th><th>Int64</th><th>String</th><th>Int64</th><th>String</th><th>String</th><th>Int64</th><th>Int64</th></tr></thead><tbody><p>10,000 rows × 14 columns (omitted printing of 6 columns)</p><tr><th>1</th><td>1</td><td>15634602</td><td>Hargrave</td><td>619</td><td>France</td><td>Female</td><td>42</td><td>2</td></tr><tr><th>2</th><td>2</td><td>15647311</td><td>Hill</td><td>608</td><td>Spain</td><td>Female</td><td>41</td><td>1</td></tr><tr><th>3</th><td>3</td><td>15619304</td><td>Onio</td><td>502</td><td>France</td><td>Female</td><td>42</td><td>8</td></tr><tr><th>4</th><td>4</td><td>15701354</td><td>Boni</td><td>699</td><td>France</td><td>Female</td><td>39</td><td>1</td></tr><tr><th>5</th><td>5</td><td>15737888</td><td>Mitchell</td><td>850</td><td>Spain</td><td>Female</td><td>43</td><td>2</td></tr><tr><th>6</th><td>6</td><td>15574012</td><td>Chu</td><td>645</td><td>Spain</td><td>Male</td><td>44</td><td>8</td></tr><tr><th>7</th><td>7</td><td>15592531</td><td>Bartlett</td><td>822</td><td>France</td><td>Male</td><td>50</td><td>7</td></tr><tr><th>8</th><td>8</td><td>15656148</td><td>Obinna</td><td>376</td><td>Germany</td><td>Female</td><td>29</td><td>4</td></tr><tr><th>9</th><td>9</td><td>15792365</td><td>He</td><td>501</td><td>France</td><td>Male</td><td>44</td><td>4</td></tr><tr><th>10</th><td>10</td><td>15592389</td><td>H?</td><td>684</td><td>France</td><td>Male</td><td>27</td><td>2</td></tr><tr><th>11</th><td>11</td><td>15767821</td><td>Bearce</td><td>528</td><td>France</td><td>Male</td><td>31</td><td>6</td></tr><tr><th>12</th><td>12</td><td>15737173</td><td>Andrews</td><td>497</td><td>Spain</td><td>Male</td><td>24</td><td>3</td></tr><tr><th>13</th><td>13</td><td>15632264</td><td>Kay</td><td>476</td><td>France</td><td>Female</td><td>34</td><td>10</td></tr><tr><th>14</th><td>14</td><td>15691483</td><td>Chin</td><td>549</td><td>France</td><td>Female</td><td>25</td><td>5</td></tr><tr><th>15</th><td>15</td><td>15600882</td><td>Scott</td><td>635</td><td>Spain</td><td>Female</td><td>35</td><td>7</td></tr><tr><th>16</th><td>16</td><td>15643966</td><td>Goforth</td><td>616</td><td>Germany</td><td>Male</td><td>45</td><td>3</td></tr><tr><th>17</th><td>17</td><td>15737452</td><td>Romeo</td><td>653</td><td>Germany</td><td>Male</td><td>58</td><td>1</td></tr><tr><th>18</th><td>18</td><td>15788218</td><td>Henderson</td><td>549</td><td>Spain</td><td>Female</td><td>24</td><td>9</td></tr><tr><th>19</th><td>19</td><td>15661507</td><td>Muldrow</td><td>587</td><td>Spain</td><td>Male</td><td>45</td><td>6</td></tr><tr><th>20</th><td>20</td><td>15568982</td><td>Hao</td><td>726</td><td>France</td><td>Female</td><td>24</td><td>6</td></tr><tr><th>21</th><td>21</td><td>15577657</td><td>McDonald</td><td>732</td><td>France</td><td>Male</td><td>41</td><td>8</td></tr><tr><th>22</th><td>22</td><td>15597945</td><td>Dellucci</td><td>636</td><td>Spain</td><td>Female</td><td>32</td><td>8</td></tr><tr><th>23</th><td>23</td><td>15699309</td><td>Gerasimov</td><td>510</td><td>Spain</td><td>Female</td><td>38</td><td>4</td></tr><tr><th>24</th><td>24</td><td>15725737</td><td>Mosman</td><td>669</td><td>France</td><td>Male</td><td>46</td><td>3</td></tr><tr><th>25</th><td>25</td><td>15625047</td><td>Yen</td><td>846</td><td>France</td><td>Female</td><td>38</td><td>5</td></tr><tr><th>26</th><td>26</td><td>15738191</td><td>Maclean</td><td>577</td><td>France</td><td>Male</td><td>25</td><td>3</td></tr><tr><th>27</th><td>27</td><td>15736816</td><td>Young</td><td>756</td><td>Germany</td><td>Male</td><td>36</td><td>2</td></tr><tr><th>28</th><td>28</td><td>15700772</td><td>Nebechi</td><td>571</td><td>France</td><td>Male</td><td>44</td><td>9</td></tr><tr><th>29</th><td>29</td><td>15728693</td><td>McWilliams</td><td>574</td><td>Germany</td><td>Female</td><td>43</td><td>3</td></tr><tr><th>30</th><td>30</td><td>15656300</td><td>Lucciano</td><td>411</td><td>France</td><td>Male</td><td>29</td><td>0</td></tr><tr><th>&vellip;</th><td>&vellip;</td><td>&vellip;</td><td>&vellip;</td><td>&vellip;</td><td>&vellip;</td><td>&vellip;</td><td>&vellip;</td><td>&vellip;</td></tr></tbody></table>"
      ],
      "text/latex": [
       "\\begin{tabular}{r|ccccccccc}\n",
       "\t& RowNumber & CustomerId & Surname & CreditScore & Geography & Gender & Age & Tenure & \\\\\n",
       "\t\\hline\n",
       "\t& Int64 & Int64 & String & Int64 & String & String & Int64 & Int64 & \\\\\n",
       "\t\\hline\n",
       "\t1 & 1 & 15634602 & Hargrave & 619 & France & Female & 42 & 2 & $\\dots$ \\\\\n",
       "\t2 & 2 & 15647311 & Hill & 608 & Spain & Female & 41 & 1 & $\\dots$ \\\\\n",
       "\t3 & 3 & 15619304 & Onio & 502 & France & Female & 42 & 8 & $\\dots$ \\\\\n",
       "\t4 & 4 & 15701354 & Boni & 699 & France & Female & 39 & 1 & $\\dots$ \\\\\n",
       "\t5 & 5 & 15737888 & Mitchell & 850 & Spain & Female & 43 & 2 & $\\dots$ \\\\\n",
       "\t6 & 6 & 15574012 & Chu & 645 & Spain & Male & 44 & 8 & $\\dots$ \\\\\n",
       "\t7 & 7 & 15592531 & Bartlett & 822 & France & Male & 50 & 7 & $\\dots$ \\\\\n",
       "\t8 & 8 & 15656148 & Obinna & 376 & Germany & Female & 29 & 4 & $\\dots$ \\\\\n",
       "\t9 & 9 & 15792365 & He & 501 & France & Male & 44 & 4 & $\\dots$ \\\\\n",
       "\t10 & 10 & 15592389 & H? & 684 & France & Male & 27 & 2 & $\\dots$ \\\\\n",
       "\t11 & 11 & 15767821 & Bearce & 528 & France & Male & 31 & 6 & $\\dots$ \\\\\n",
       "\t12 & 12 & 15737173 & Andrews & 497 & Spain & Male & 24 & 3 & $\\dots$ \\\\\n",
       "\t13 & 13 & 15632264 & Kay & 476 & France & Female & 34 & 10 & $\\dots$ \\\\\n",
       "\t14 & 14 & 15691483 & Chin & 549 & France & Female & 25 & 5 & $\\dots$ \\\\\n",
       "\t15 & 15 & 15600882 & Scott & 635 & Spain & Female & 35 & 7 & $\\dots$ \\\\\n",
       "\t16 & 16 & 15643966 & Goforth & 616 & Germany & Male & 45 & 3 & $\\dots$ \\\\\n",
       "\t17 & 17 & 15737452 & Romeo & 653 & Germany & Male & 58 & 1 & $\\dots$ \\\\\n",
       "\t18 & 18 & 15788218 & Henderson & 549 & Spain & Female & 24 & 9 & $\\dots$ \\\\\n",
       "\t19 & 19 & 15661507 & Muldrow & 587 & Spain & Male & 45 & 6 & $\\dots$ \\\\\n",
       "\t20 & 20 & 15568982 & Hao & 726 & France & Female & 24 & 6 & $\\dots$ \\\\\n",
       "\t21 & 21 & 15577657 & McDonald & 732 & France & Male & 41 & 8 & $\\dots$ \\\\\n",
       "\t22 & 22 & 15597945 & Dellucci & 636 & Spain & Female & 32 & 8 & $\\dots$ \\\\\n",
       "\t23 & 23 & 15699309 & Gerasimov & 510 & Spain & Female & 38 & 4 & $\\dots$ \\\\\n",
       "\t24 & 24 & 15725737 & Mosman & 669 & France & Male & 46 & 3 & $\\dots$ \\\\\n",
       "\t25 & 25 & 15625047 & Yen & 846 & France & Female & 38 & 5 & $\\dots$ \\\\\n",
       "\t26 & 26 & 15738191 & Maclean & 577 & France & Male & 25 & 3 & $\\dots$ \\\\\n",
       "\t27 & 27 & 15736816 & Young & 756 & Germany & Male & 36 & 2 & $\\dots$ \\\\\n",
       "\t28 & 28 & 15700772 & Nebechi & 571 & France & Male & 44 & 9 & $\\dots$ \\\\\n",
       "\t29 & 29 & 15728693 & McWilliams & 574 & Germany & Female & 43 & 3 & $\\dots$ \\\\\n",
       "\t30 & 30 & 15656300 & Lucciano & 411 & France & Male & 29 & 0 & $\\dots$ \\\\\n",
       "\t$\\dots$ & $\\dots$ & $\\dots$ & $\\dots$ & $\\dots$ & $\\dots$ & $\\dots$ & $\\dots$ & $\\dots$ &  \\\\\n",
       "\\end{tabular}\n"
      ],
      "text/plain": [
       "10000×14 DataFrame. Omitted printing of 9 columns\n",
       "│ Row   │ RowNumber │ CustomerId │ Surname     │ CreditScore │ Geography │\n",
       "│       │ \u001b[90mInt64\u001b[39m     │ \u001b[90mInt64\u001b[39m      │ \u001b[90mString\u001b[39m      │ \u001b[90mInt64\u001b[39m       │ \u001b[90mString\u001b[39m    │\n",
       "├───────┼───────────┼────────────┼─────────────┼─────────────┼───────────┤\n",
       "│ 1     │ 1         │ 15634602   │ Hargrave    │ 619         │ France    │\n",
       "│ 2     │ 2         │ 15647311   │ Hill        │ 608         │ Spain     │\n",
       "│ 3     │ 3         │ 15619304   │ Onio        │ 502         │ France    │\n",
       "│ 4     │ 4         │ 15701354   │ Boni        │ 699         │ France    │\n",
       "│ 5     │ 5         │ 15737888   │ Mitchell    │ 850         │ Spain     │\n",
       "│ 6     │ 6         │ 15574012   │ Chu         │ 645         │ Spain     │\n",
       "│ 7     │ 7         │ 15592531   │ Bartlett    │ 822         │ France    │\n",
       "│ 8     │ 8         │ 15656148   │ Obinna      │ 376         │ Germany   │\n",
       "│ 9     │ 9         │ 15792365   │ He          │ 501         │ France    │\n",
       "│ 10    │ 10        │ 15592389   │ H?          │ 684         │ France    │\n",
       "⋮\n",
       "│ 9990  │ 9990      │ 15605622   │ McMillan    │ 841         │ Spain     │\n",
       "│ 9991  │ 9991      │ 15798964   │ Nkemakonam  │ 714         │ Germany   │\n",
       "│ 9992  │ 9992      │ 15769959   │ Ajuluchukwu │ 597         │ France    │\n",
       "│ 9993  │ 9993      │ 15657105   │ Chukwualuka │ 726         │ Spain     │\n",
       "│ 9994  │ 9994      │ 15569266   │ Rahman      │ 644         │ France    │\n",
       "│ 9995  │ 9995      │ 15719294   │ Wood        │ 800         │ France    │\n",
       "│ 9996  │ 9996      │ 15606229   │ Obijiaku    │ 771         │ France    │\n",
       "│ 9997  │ 9997      │ 15569892   │ Johnstone   │ 516         │ France    │\n",
       "│ 9998  │ 9998      │ 15584532   │ Liu         │ 709         │ France    │\n",
       "│ 9999  │ 9999      │ 15682355   │ Sabbatini   │ 772         │ Germany   │\n",
       "│ 10000 │ 10000     │ 15628319   │ Walker      │ 792         │ France    │"
      ]
     },
     "execution_count": 4,
     "metadata": {},
     "output_type": "execute_result"
    }
   ],
   "source": [
    "df=CSV.read(\"D:\\\\datasets python\\\\Churn_Modelling.csv\",DataFrame)"
   ]
  },
  {
   "cell_type": "code",
   "execution_count": 5,
   "metadata": {},
   "outputs": [
    {
     "data": {
      "text/html": [
       "<table class=\"data-frame\"><thead><tr><th></th><th>variable</th><th>mean</th><th>min</th><th>median</th><th>max</th><th>nunique</th><th>nmissing</th><th>eltype</th></tr><tr><th></th><th>Symbol</th><th>Union…</th><th>Any</th><th>Union…</th><th>Any</th><th>Union…</th><th>Nothing</th><th>DataType</th></tr></thead><tbody><p>14 rows × 8 columns</p><tr><th>1</th><td>RowNumber</td><td>5000.5</td><td>1</td><td>5000.5</td><td>10000</td><td></td><td></td><td>Int64</td></tr><tr><th>2</th><td>CustomerId</td><td>1.56909e7</td><td>15565701</td><td>1.56907e7</td><td>15815690</td><td></td><td></td><td>Int64</td></tr><tr><th>3</th><td>Surname</td><td></td><td>Abazu</td><td></td><td>Zuyeva</td><td>2932</td><td></td><td>String</td></tr><tr><th>4</th><td>CreditScore</td><td>650.529</td><td>350</td><td>652.0</td><td>850</td><td></td><td></td><td>Int64</td></tr><tr><th>5</th><td>Geography</td><td></td><td>France</td><td></td><td>Spain</td><td>3</td><td></td><td>String</td></tr><tr><th>6</th><td>Gender</td><td></td><td>Female</td><td></td><td>Male</td><td>2</td><td></td><td>String</td></tr><tr><th>7</th><td>Age</td><td>38.9218</td><td>18</td><td>37.0</td><td>92</td><td></td><td></td><td>Int64</td></tr><tr><th>8</th><td>Tenure</td><td>5.0128</td><td>0</td><td>5.0</td><td>10</td><td></td><td></td><td>Int64</td></tr><tr><th>9</th><td>Balance</td><td>76485.9</td><td>0.0</td><td>97198.5</td><td>2.50898e5</td><td></td><td></td><td>Float64</td></tr><tr><th>10</th><td>NumOfProducts</td><td>1.5302</td><td>1</td><td>1.0</td><td>4</td><td></td><td></td><td>Int64</td></tr><tr><th>11</th><td>HasCrCard</td><td>0.7055</td><td>0</td><td>1.0</td><td>1</td><td></td><td></td><td>Int64</td></tr><tr><th>12</th><td>IsActiveMember</td><td>0.5151</td><td>0</td><td>1.0</td><td>1</td><td></td><td></td><td>Int64</td></tr><tr><th>13</th><td>EstimatedSalary</td><td>1.0009e5</td><td>11.58</td><td>1.00194e5</td><td>1.99992e5</td><td></td><td></td><td>Float64</td></tr><tr><th>14</th><td>Exited</td><td>0.2037</td><td>0</td><td>0.0</td><td>1</td><td></td><td></td><td>Int64</td></tr></tbody></table>"
      ],
      "text/latex": [
       "\\begin{tabular}{r|cccccccc}\n",
       "\t& variable & mean & min & median & max & nunique & nmissing & eltype\\\\\n",
       "\t\\hline\n",
       "\t& Symbol & Union… & Any & Union… & Any & Union… & Nothing & DataType\\\\\n",
       "\t\\hline\n",
       "\t1 & RowNumber & 5000.5 & 1 & 5000.5 & 10000 &  &  & Int64 \\\\\n",
       "\t2 & CustomerId & 1.56909e7 & 15565701 & 1.56907e7 & 15815690 &  &  & Int64 \\\\\n",
       "\t3 & Surname &  & Abazu &  & Zuyeva & 2932 &  & String \\\\\n",
       "\t4 & CreditScore & 650.529 & 350 & 652.0 & 850 &  &  & Int64 \\\\\n",
       "\t5 & Geography &  & France &  & Spain & 3 &  & String \\\\\n",
       "\t6 & Gender &  & Female &  & Male & 2 &  & String \\\\\n",
       "\t7 & Age & 38.9218 & 18 & 37.0 & 92 &  &  & Int64 \\\\\n",
       "\t8 & Tenure & 5.0128 & 0 & 5.0 & 10 &  &  & Int64 \\\\\n",
       "\t9 & Balance & 76485.9 & 0.0 & 97198.5 & 2.50898e5 &  &  & Float64 \\\\\n",
       "\t10 & NumOfProducts & 1.5302 & 1 & 1.0 & 4 &  &  & Int64 \\\\\n",
       "\t11 & HasCrCard & 0.7055 & 0 & 1.0 & 1 &  &  & Int64 \\\\\n",
       "\t12 & IsActiveMember & 0.5151 & 0 & 1.0 & 1 &  &  & Int64 \\\\\n",
       "\t13 & EstimatedSalary & 1.0009e5 & 11.58 & 1.00194e5 & 1.99992e5 &  &  & Float64 \\\\\n",
       "\t14 & Exited & 0.2037 & 0 & 0.0 & 1 &  &  & Int64 \\\\\n",
       "\\end{tabular}\n"
      ],
      "text/plain": [
       "14×8 DataFrame. Omitted printing of 3 columns\n",
       "│ Row │ variable        │ mean      │ min      │ median    │ max       │\n",
       "│     │ \u001b[90mSymbol\u001b[39m          │ \u001b[90mUnion…\u001b[39m    │ \u001b[90mAny\u001b[39m      │ \u001b[90mUnion…\u001b[39m    │ \u001b[90mAny\u001b[39m       │\n",
       "├─────┼─────────────────┼───────────┼──────────┼───────────┼───────────┤\n",
       "│ 1   │ RowNumber       │ 5000.5    │ 1        │ 5000.5    │ 10000     │\n",
       "│ 2   │ CustomerId      │ 1.56909e7 │ 15565701 │ 1.56907e7 │ 15815690  │\n",
       "│ 3   │ Surname         │           │ Abazu    │           │ Zuyeva    │\n",
       "│ 4   │ CreditScore     │ 650.529   │ 350      │ 652.0     │ 850       │\n",
       "│ 5   │ Geography       │           │ France   │           │ Spain     │\n",
       "│ 6   │ Gender          │           │ Female   │           │ Male      │\n",
       "│ 7   │ Age             │ 38.9218   │ 18       │ 37.0      │ 92        │\n",
       "│ 8   │ Tenure          │ 5.0128    │ 0        │ 5.0       │ 10        │\n",
       "│ 9   │ Balance         │ 76485.9   │ 0.0      │ 97198.5   │ 2.50898e5 │\n",
       "│ 10  │ NumOfProducts   │ 1.5302    │ 1        │ 1.0       │ 4         │\n",
       "│ 11  │ HasCrCard       │ 0.7055    │ 0        │ 1.0       │ 1         │\n",
       "│ 12  │ IsActiveMember  │ 0.5151    │ 0        │ 1.0       │ 1         │\n",
       "│ 13  │ EstimatedSalary │ 1.0009e5  │ 11.58    │ 1.00194e5 │ 1.99992e5 │\n",
       "│ 14  │ Exited          │ 0.2037    │ 0        │ 0.0       │ 1         │"
      ]
     },
     "execution_count": 5,
     "metadata": {},
     "output_type": "execute_result"
    }
   ],
   "source": [
    "describe(df)"
   ]
  },
  {
   "cell_type": "code",
   "execution_count": 6,
   "metadata": {},
   "outputs": [
    {
     "data": {
      "text/plain": [
       "14-element Array{String,1}:\n",
       " \"RowNumber\"      \n",
       " \"CustomerId\"     \n",
       " \"Surname\"        \n",
       " \"CreditScore\"    \n",
       " \"Geography\"      \n",
       " \"Gender\"         \n",
       " \"Age\"            \n",
       " \"Tenure\"         \n",
       " \"Balance\"        \n",
       " \"NumOfProducts\"  \n",
       " \"HasCrCard\"      \n",
       " \"IsActiveMember\" \n",
       " \"EstimatedSalary\"\n",
       " \"Exited\"         "
      ]
     },
     "execution_count": 6,
     "metadata": {},
     "output_type": "execute_result"
    }
   ],
   "source": [
    "names(df)"
   ]
  },
  {
   "cell_type": "code",
   "execution_count": 7,
   "metadata": {},
   "outputs": [
    {
     "data": {
      "text/plain": [
       "Dict{Int64,Int64} with 2 entries:\n",
       "  0 => 7963\n",
       "  1 => 2037"
      ]
     },
     "execution_count": 7,
     "metadata": {},
     "output_type": "execute_result"
    }
   ],
   "source": [
    "countmap(df.Exited)"
   ]
  },
  {
   "cell_type": "code",
   "execution_count": 10,
   "metadata": {},
   "outputs": [
    {
     "data": {
      "text/html": [
       "<table class=\"data-frame\"><thead><tr><th></th><th>CreditScore</th><th>Age</th><th>Tenure</th><th>Balance</th><th>NumOfProducts</th><th>HasCrCard</th><th>IsActiveMember</th></tr><tr><th></th><th>Int64</th><th>Int64</th><th>Int64</th><th>Float64</th><th>Int64</th><th>Int64</th><th>Int64</th></tr></thead><tbody><p>5 rows × 13 columns (omitted printing of 6 columns)</p><tr><th>1</th><td>619</td><td>42</td><td>2</td><td>0.0</td><td>1</td><td>1</td><td>1</td></tr><tr><th>2</th><td>608</td><td>41</td><td>1</td><td>83807.9</td><td>1</td><td>0</td><td>1</td></tr><tr><th>3</th><td>502</td><td>42</td><td>8</td><td>1.59661e5</td><td>3</td><td>1</td><td>0</td></tr><tr><th>4</th><td>699</td><td>39</td><td>1</td><td>0.0</td><td>2</td><td>0</td><td>0</td></tr><tr><th>5</th><td>850</td><td>43</td><td>2</td><td>1.25511e5</td><td>1</td><td>1</td><td>1</td></tr></tbody></table>"
      ],
      "text/latex": [
       "\\begin{tabular}{r|cccccccc}\n",
       "\t& CreditScore & Age & Tenure & Balance & NumOfProducts & HasCrCard & IsActiveMember & \\\\\n",
       "\t\\hline\n",
       "\t& Int64 & Int64 & Int64 & Float64 & Int64 & Int64 & Int64 & \\\\\n",
       "\t\\hline\n",
       "\t1 & 619 & 42 & 2 & 0.0 & 1 & 1 & 1 & $\\dots$ \\\\\n",
       "\t2 & 608 & 41 & 1 & 83807.9 & 1 & 0 & 1 & $\\dots$ \\\\\n",
       "\t3 & 502 & 42 & 8 & 1.59661e5 & 3 & 1 & 0 & $\\dots$ \\\\\n",
       "\t4 & 699 & 39 & 1 & 0.0 & 2 & 0 & 0 & $\\dots$ \\\\\n",
       "\t5 & 850 & 43 & 2 & 1.25511e5 & 1 & 1 & 1 & $\\dots$ \\\\\n",
       "\\end{tabular}\n"
      ],
      "text/plain": [
       "5×13 DataFrame. Omitted printing of 7 columns\n",
       "│ Row │ CreditScore │ Age   │ Tenure │ Balance   │ NumOfProducts │ HasCrCard │\n",
       "│     │ \u001b[90mInt64\u001b[39m       │ \u001b[90mInt64\u001b[39m │ \u001b[90mInt64\u001b[39m  │ \u001b[90mFloat64\u001b[39m   │ \u001b[90mInt64\u001b[39m         │ \u001b[90mInt64\u001b[39m     │\n",
       "├─────┼─────────────┼───────┼────────┼───────────┼───────────────┼───────────┤\n",
       "│ 1   │ 619         │ 42    │ 2      │ 0.0       │ 1             │ 1         │\n",
       "│ 2   │ 608         │ 41    │ 1      │ 83807.9   │ 1             │ 0         │\n",
       "│ 3   │ 502         │ 42    │ 8      │ 1.59661e5 │ 3             │ 1         │\n",
       "│ 4   │ 699         │ 39    │ 1      │ 0.0       │ 2             │ 0         │\n",
       "│ 5   │ 850         │ 43    │ 2      │ 1.25511e5 │ 1             │ 1         │"
      ]
     },
     "execution_count": 10,
     "metadata": {},
     "output_type": "execute_result"
    }
   ],
   "source": [
    "Lathe.preprocess.OneHotEncode(df,:Geography)\n",
    "Lathe.preprocess.OneHotEncode(df,:Gender)\n",
    "select!(df,Not([:RowNumber,:CustomerId,:Surname,:Geography,:Gender,:Male]))\n",
    "first(df,5)"
   ]
  },
  {
   "cell_type": "code",
   "execution_count": 12,
   "metadata": {},
   "outputs": [],
   "source": [
    "using Lathe.preprocess:TrainTestSplit\n",
    "train,test = TrainTestSplit(df,.75);"
   ]
  },
  {
   "cell_type": "code",
   "execution_count": 18,
   "metadata": {},
   "outputs": [
    {
     "data": {
      "text/plain": [
       "StatsModels.TableRegressionModel{GeneralizedLinearModel{GLM.GlmResp{Array{Float64,1},Binomial{Float64},ProbitLink},GLM.DensePredChol{Float64,LinearAlgebra.Cholesky{Float64,Array{Float64,2}}}},Array{Float64,2}}\n",
       "\n",
       "Exited ~ 1 + CreditScore + Age + Tenure + Balance + NumOfProducts + HasCrCard + IsActiveMember + EstimatedSalary + Female + France + Spain\n",
       "\n",
       "Coefficients:\n",
       "────────────────────────────────────────────────────────────────────────────────────────\n",
       "                        Coef.   Std. Error       z  Pr(>|z|)     Lower 95%     Upper 95%\n",
       "────────────────────────────────────────────────────────────────────────────────────────\n",
       "(Intercept)      -1.78098      0.166846     -10.67    <1e-25  -2.10799      -1.45396    \n",
       "CreditScore      -0.000468317  0.000183702   -2.55    0.0108  -0.000828367  -0.000108268\n",
       "Age               0.041428     0.00168256    24.62    <1e-99   0.0381302     0.0447257  \n",
       "Tenure           -0.0103542    0.00611738    -1.69    0.0905  -0.022344      0.0016357  \n",
       "Balance           1.64893e-6   3.33924e-7     4.94    <1e-6    9.94452e-7    2.30341e-6 \n",
       "NumOfProducts    -0.0503715    0.0314148     -1.60    0.1088  -0.111943      0.0112005  \n",
       "HasCrCard         0.000848564  0.0390103      0.02    0.9826  -0.0756101     0.0773073  \n",
       "IsActiveMember   -0.603948     0.036838     -16.39    <1e-59  -0.676149     -0.531746   \n",
       "EstimatedSalary  -1.37734e-8   3.09639e-7    -0.04    0.9645  -6.20654e-7    5.93107e-7 \n",
       "Female            0.315904     0.0356032      8.87    <1e-18   0.246123      0.385685   \n",
       "France           -0.44109      0.0449764     -9.81    <1e-21  -0.529242     -0.352938   \n",
       "Spain            -0.394122     0.052173      -7.55    <1e-13  -0.496379     -0.291865   \n",
       "────────────────────────────────────────────────────────────────────────────────────────"
      ]
     },
     "execution_count": 18,
     "metadata": {},
     "output_type": "execute_result"
    }
   ],
   "source": [
    "fm = @formula(Exited ~ CreditScore + Age + Tenure +Balance +NumOfProducts + HasCrCard + IsActiveMember + EstimatedSalary + Female + France +Spain)\n",
    "logit = glm(fm, train, Binomial(), ProbitLink())"
   ]
  },
  {
   "cell_type": "code",
   "execution_count": null,
   "metadata": {},
   "outputs": [],
   "source": [
    "predicted=prediction()"
   ]
  }
 ],
 "metadata": {
  "kernelspec": {
   "display_name": "Julia 1.0.5",
   "language": "julia",
   "name": "julia-1.0"
  },
  "language_info": {
   "file_extension": ".jl",
   "mimetype": "application/julia",
   "name": "julia",
   "version": "1.0.5"
  }
 },
 "nbformat": 4,
 "nbformat_minor": 2
}
